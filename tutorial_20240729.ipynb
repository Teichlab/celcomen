{
 "cells": [
  {
   "cell_type": "code",
   "execution_count": 3,
   "id": "fbe4a3cd-ce33-41d3-96d1-c25b37ef6548",
   "metadata": {},
   "outputs": [],
   "source": [
    "from celcomen.models.celcomen import celcomen\n",
    "from celcomen.models.simcomen import simcomen"
   ]
  },
  {
   "cell_type": "code",
   "execution_count": 4,
   "id": "d611d7a4-74a3-4311-adfc-c38305659386",
   "metadata": {},
   "outputs": [],
   "source": [
    "import scanpy as sc"
   ]
  },
  {
   "cell_type": "code",
   "execution_count": 8,
   "id": "1dfff8e0-4740-4f91-afae-75d8f855a907",
   "metadata": {},
   "outputs": [
    {
     "name": "stderr",
     "output_type": "stream",
     "text": [
      "100%|███████████████████| 9.50M/9.50M [00:00<00:00, 72.0MB/s]\n",
      "100%|███████████████████| 26.9M/26.9M [00:00<00:00, 83.6MB/s]\n",
      "/nfs/team205/sm58/packages/celcomen_trials/pyg_env/lib/python3.10/site-packages/anndata/_core/anndata.py:1820: UserWarning: Variable names are not unique. To make them unique, call `.var_names_make_unique`.\n",
      "  utils.warn_names_duplicates(\"var\")\n",
      "/nfs/team205/sm58/packages/celcomen_trials/pyg_env/lib/python3.10/site-packages/anndata/_core/anndata.py:1820: UserWarning: Variable names are not unique. To make them unique, call `.var_names_make_unique`.\n",
      "  utils.warn_names_duplicates(\"var\")\n"
     ]
    },
    {
     "data": {
      "text/plain": [
       "AnnData object with n_obs × n_vars = 3798 × 36601\n",
       "    obs: 'in_tissue', 'array_row', 'array_col'\n",
       "    var: 'gene_ids', 'feature_types', 'genome'\n",
       "    uns: 'spatial'\n",
       "    obsm: 'spatial'"
      ]
     },
     "execution_count": 8,
     "metadata": {},
     "output_type": "execute_result"
    }
   ],
   "source": [
    "sc.datasets.visium_sge(sample_id='V1_Breast_Cancer_Block_A_Section_1')"
   ]
  },
  {
   "cell_type": "code",
   "execution_count": 12,
   "id": "cf86e2b8-1d3e-4b3d-b930-9fc2862d84ea",
   "metadata": {},
   "outputs": [
    {
     "name": "stderr",
     "output_type": "stream",
     "text": [
      "/nfs/team205/sm58/packages/celcomen_trials/pyg_env/lib/python3.10/site-packages/anndata/_core/anndata.py:1820: UserWarning: Variable names are not unique. To make them unique, call `.var_names_make_unique`.\n",
      "  utils.warn_names_duplicates(\"var\")\n",
      "/nfs/team205/sm58/packages/celcomen_trials/pyg_env/lib/python3.10/site-packages/anndata/_core/anndata.py:1820: UserWarning: Variable names are not unique. To make them unique, call `.var_names_make_unique`.\n",
      "  utils.warn_names_duplicates(\"var\")\n"
     ]
    }
   ],
   "source": [
    "adata = sc.read_10x_h5(\"data/V1_Breast_Cancer_Block_A_Section_1/filtered_feature_bc_matrix.h5\")"
   ]
  },
  {
   "cell_type": "code",
   "execution_count": 13,
   "id": "38bf1883-8ba6-4643-a01f-21269fb10675",
   "metadata": {},
   "outputs": [
    {
     "data": {
      "text/plain": [
       "AnnData object with n_obs × n_vars = 3798 × 36601\n",
       "    var: 'gene_ids', 'feature_types', 'genome'"
      ]
     },
     "execution_count": 13,
     "metadata": {},
     "output_type": "execute_result"
    }
   ],
   "source": [
    "adata"
   ]
  },
  {
   "cell_type": "code",
   "execution_count": null,
   "id": "7ef25496-4597-45f8-bbbc-d85d3af330ee",
   "metadata": {},
   "outputs": [],
   "source": []
  }
 ],
 "metadata": {
  "kernelspec": {
   "display_name": "pyg_env",
   "language": "python",
   "name": "pyg_env"
  },
  "language_info": {
   "codemirror_mode": {
    "name": "ipython",
    "version": 3
   },
   "file_extension": ".py",
   "mimetype": "text/x-python",
   "name": "python",
   "nbconvert_exporter": "python",
   "pygments_lexer": "ipython3",
   "version": "3.10.13"
  }
 },
 "nbformat": 4,
 "nbformat_minor": 5
}
