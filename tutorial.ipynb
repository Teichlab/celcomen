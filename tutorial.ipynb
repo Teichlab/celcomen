{
 "cells": [
  {
   "cell_type": "code",
   "execution_count": 2,
   "id": "auburn-secretariat",
   "metadata": {},
   "outputs": [],
   "source": [
    "from models.celcomen import celcomen\n",
    "from models.simcomen import simcomen"
   ]
  },
  {
   "cell_type": "code",
   "execution_count": null,
   "id": "conceptual-procurement",
   "metadata": {},
   "outputs": [],
   "source": []
  }
 ],
 "metadata": {
  "kernelspec": {
   "display_name": "celcomen_package_env",
   "language": "python",
   "name": "celcomen_package_env"
  },
  "language_info": {
   "codemirror_mode": {
    "name": "ipython",
    "version": 3
   },
   "file_extension": ".py",
   "mimetype": "text/x-python",
   "name": "python",
   "nbconvert_exporter": "python",
   "pygments_lexer": "ipython3",
   "version": "3.9.19"
  }
 },
 "nbformat": 4,
 "nbformat_minor": 5
}
