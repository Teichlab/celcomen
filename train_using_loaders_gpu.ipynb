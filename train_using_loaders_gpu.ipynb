{
 "cells": [
  {
   "cell_type": "code",
   "execution_count": 1,
   "id": "anonymous-paris",
   "metadata": {},
   "outputs": [],
   "source": [
    "from celcomen.models.celcomen import celcomen\n",
    "from celcomen.models.simcomen import simcomen\n",
    "from celcomen.utils.helpers import normalize_g2g, calc_sphex, calc_gex"
   ]
  },
  {
   "cell_type": "code",
   "execution_count": 2,
   "id": "aboriginal-discharge",
   "metadata": {},
   "outputs": [
    {
     "name": "stdout",
     "output_type": "stream",
     "text": [
      "/nfs/team205/sm58/packages/celcomen_trials/celcomen_final\n"
     ]
    }
   ],
   "source": [
    "!pwd"
   ]
  },
  {
   "cell_type": "code",
   "execution_count": 3,
   "id": "billion-survivor",
   "metadata": {},
   "outputs": [],
   "source": [
    "%load_ext autoreload\n",
    "%autoreload 2"
   ]
  },
  {
   "cell_type": "code",
   "execution_count": 4,
   "id": "facial-cassette",
   "metadata": {},
   "outputs": [],
   "source": [
    "import scanpy as sc\n",
    "import numpy as np\n",
    "import matplotlib.pyplot as plt\n",
    "import pandas as pd"
   ]
  },
  {
   "cell_type": "code",
   "execution_count": 5,
   "id": "national-robinson",
   "metadata": {},
   "outputs": [],
   "source": [
    "from torch_geometric.loader import DataLoader\n",
    "import scanpy as sc\n",
    "import torch\n",
    "import torch_geometric\n",
    "from sklearn.neighbors import kneighbors_graph\n",
    "\n",
    "def get_dataset_loaders(h5ad_path: str, sample_id_name: str, n_neighbors: int, verbose: bool):\n",
    "\n",
    "    adata = sc.read_h5ad(h5ad_path) \n",
    "\n",
    "    adata_list = [  adata[adata.obs[sample_id_name]==i] for i in set(adata.obs[sample_id_name])  ]\n",
    "\n",
    "    data_list = []\n",
    "    n_neighbors = 6\n",
    "\n",
    "    for adata in adata_list:\n",
    "        pos = torch.from_numpy(adata.obsm[\"spatial\"])\n",
    "        x = torch.from_numpy(adata.X.todense())    # here x is nodes x 33500 -> add filteration here to take \"best\" 100\n",
    "        # normalize x \n",
    "        norm_factor = torch.pow(x,2).sum(1).reshape(-1,1)\n",
    "        x = torch.div(x, norm_factor)\n",
    "        y = torch.Tensor([0])   # here we will store GT value\n",
    "        #edge_index = knn_graph(pos, k=n_neighbors)\n",
    "        edge_index = kneighbors_graph(pos, n_neighbors, include_self=False).todense()\n",
    "        edge_index = torch.from_numpy(np.array(np.where(edge_index)))\n",
    "        data = torch_geometric.data.Data(x=x, pos=pos, y=y, edge_index=edge_index)\n",
    "        data.validate(raise_on_error=True)    # performs basic checks on the graph\n",
    "        data_list.append(data)\n",
    "\n",
    "    loader = DataLoader( data_list, batch_size=1, shuffle=True)\n",
    "\n",
    "    if verbose:\n",
    "        for step, data in enumerate(loader):\n",
    "            print(f'Step {step+1}')\n",
    "            print(\"=====\")\n",
    "            print(f'Number of graphs in the current batch: {data.num_graphs}')\n",
    "            print(data)\n",
    "            print()\n",
    "\n",
    "    return loader"
   ]
  },
  {
   "cell_type": "code",
   "execution_count": 6,
   "id": "distinguished-addiction",
   "metadata": {},
   "outputs": [
    {
     "name": "stdout",
     "output_type": "stream",
     "text": [
      "Step 1\n",
      "=====\n",
      "Number of graphs in the current batch: 1\n",
      "DataBatch(x=[4243, 33538], edge_index=[2, 25458], y=[1], pos=[4243, 2], batch=[4243], ptr=[2])\n",
      "\n",
      "Step 2\n",
      "=====\n",
      "Number of graphs in the current batch: 1\n",
      "DataBatch(x=[3400, 33538], edge_index=[2, 20400], y=[1], pos=[3400, 2], batch=[3400], ptr=[2])\n",
      "\n",
      "Step 3\n",
      "=====\n",
      "Number of graphs in the current batch: 1\n",
      "DataBatch(x=[3430, 33538], edge_index=[2, 20580], y=[1], pos=[3430, 2], batch=[3430], ptr=[2])\n",
      "\n",
      "Step 4\n",
      "=====\n",
      "Number of graphs in the current batch: 1\n",
      "DataBatch(x=[3802, 33538], edge_index=[2, 22812], y=[1], pos=[3802, 2], batch=[3802], ptr=[2])\n",
      "\n",
      "Step 5\n",
      "=====\n",
      "Number of graphs in the current batch: 1\n",
      "DataBatch(x=[2881, 33538], edge_index=[2, 17286], y=[1], pos=[2881, 2], batch=[2881], ptr=[2])\n",
      "\n",
      "Step 6\n",
      "=====\n",
      "Number of graphs in the current batch: 1\n",
      "DataBatch(x=[3448, 33538], edge_index=[2, 20688], y=[1], pos=[3448, 2], batch=[3448], ptr=[2])\n",
      "\n",
      "Step 7\n",
      "=====\n",
      "Number of graphs in the current batch: 1\n",
      "DataBatch(x=[3052, 33538], edge_index=[2, 18312], y=[1], pos=[3052, 2], batch=[3052], ptr=[2])\n",
      "\n",
      "Step 8\n",
      "=====\n",
      "Number of graphs in the current batch: 1\n",
      "DataBatch(x=[2852, 33538], edge_index=[2, 17112], y=[1], pos=[2852, 2], batch=[2852], ptr=[2])\n",
      "\n"
     ]
    }
   ],
   "source": [
    "h5ad_path=\"data/visium-OCT_SAN_raw.h5ad\"\n",
    "\n",
    "loader = get_dataset_loaders(\"data/visium-OCT_SAN_raw.h5ad\", \"sangerID\", 6, True, )"
   ]
  },
  {
   "cell_type": "code",
   "execution_count": null,
   "id": "usual-inspiration",
   "metadata": {},
   "outputs": [],
   "source": []
  },
  {
   "cell_type": "code",
   "execution_count": 16,
   "id": "anticipated-surveillance",
   "metadata": {},
   "outputs": [],
   "source": [
    "from tqdm import tqdm\n",
    "import numpy as np\n",
    "import torch\n",
    "            \n",
    "            \n",
    "def train(num_epochs, learning_rate, model, loader, zmft_scalar=1e-1, seed=1, device=\"cpu\"):\n",
    "    \n",
    "    optimizer = torch.optim.SGD(model.parameters(), lr=learning_rate, momentum=0)\n",
    "    losses = []\n",
    "    model.train()\n",
    "    torch.manual_seed(seed)\n",
    "    \n",
    "    for epoch in range(num_epochs):\n",
    "        losses_= []\n",
    "\n",
    "        for data in loader:\n",
    "            # move data to device\n",
    "            data = data.to(device)\n",
    "            # train loader  # Iterate in batches over the training dataset.\n",
    "            # set the appropriate gex\n",
    "            model.set_gex(data.x)\n",
    "            # derive the message as well as the mean field approximation\n",
    "            msg, msg_intra, log_z_mft = model(data.edge_index, 1)\n",
    "            # compute the loss and track it\n",
    "            loss = -(-log_z_mft + zmft_scalar * torch.trace(torch.mm(msg, torch.t(model.gex))) + zmft_scalar * torch.trace(torch.mm(msg_intra, torch.t(model.gex))) )\n",
    "            if device==\"cpu\":\n",
    "                losses_.append(loss.detach().numpy()[0][0])\n",
    "            else:\n",
    "                losses_.append(loss.detach().cpu().numpy()[0][0])\n",
    "            # derive the gradients, update, and clear\n",
    "            loss.backward()\n",
    "            optimizer.step()\n",
    "            optimizer.zero_grad()\n",
    "            # repeatedly force a normalization\n",
    "            model.conv1.lin.weight = torch.nn.Parameter(normalize_g2g(model.conv1.lin.weight), requires_grad=True)\n",
    "            model.lin.weight = torch.nn.Parameter(normalize_g2g(model.lin.weight), requires_grad=True)\n",
    "            optimizer = torch.optim.SGD(model.parameters(), lr=learning_rate, momentum=0)\n",
    "            \n",
    "        print(f\"Loss={np.mean(losses_)}\")\n",
    "        losses.append(np.mean(losses_))\n",
    "\n",
    "    return losses\n"
   ]
  },
  {
   "cell_type": "code",
   "execution_count": 17,
   "id": "c1c8c222-7776-42bf-b071-6f145ad1bd32",
   "metadata": {},
   "outputs": [
    {
     "data": {
      "text/plain": [
       "True"
      ]
     },
     "execution_count": 17,
     "metadata": {},
     "output_type": "execute_result"
    }
   ],
   "source": [
    "torch.cuda.is_available()"
   ]
  },
  {
   "cell_type": "code",
   "execution_count": 21,
   "id": "lovely-chance",
   "metadata": {},
   "outputs": [
    {
     "ename": "OutOfMemoryError",
     "evalue": "CUDA out of memory. Tried to allocate 4.19 GiB. GPU 0 has a total capacity of 79.14 GiB of which 1.95 GiB is free. Including non-PyTorch memory, this process has 77.18 GiB memory in use. Of the allocated memory 75.16 GiB is allocated by PyTorch, and 1.53 GiB is reserved by PyTorch but unallocated. If reserved but unallocated memory is large try setting PYTORCH_CUDA_ALLOC_CONF=expandable_segments:True to avoid fragmentation.  See documentation for Memory Management  (https://pytorch.org/docs/stable/notes/cuda.html#environment-variables)",
     "output_type": "error",
     "traceback": [
      "\u001b[0;31m---------------------------------------------------------------------------\u001b[0m",
      "\u001b[0;31mOutOfMemoryError\u001b[0m                          Traceback (most recent call last)",
      "Cell \u001b[0;32mIn[21], line 10\u001b[0m\n\u001b[1;32m      6\u001b[0m learning_rate \u001b[38;5;241m=\u001b[39m \u001b[38;5;241m5e-1\u001b[39m\n\u001b[1;32m      9\u001b[0m model \u001b[38;5;241m=\u001b[39m celcomen(input_dim\u001b[38;5;241m=\u001b[39mn_genes, output_dim\u001b[38;5;241m=\u001b[39mn_genes, n_neighbors\u001b[38;5;241m=\u001b[39mn_neighbors, seed\u001b[38;5;241m=\u001b[39mseed)\n\u001b[0;32m---> 10\u001b[0m \u001b[43mmodel\u001b[49m\u001b[38;5;241;43m.\u001b[39;49m\u001b[43mto\u001b[49m\u001b[43m(\u001b[49m\u001b[38;5;124;43m\"\u001b[39;49m\u001b[38;5;124;43mcuda\u001b[39;49m\u001b[38;5;124;43m\"\u001b[39;49m\u001b[43m)\u001b[49m\n\u001b[1;32m     11\u001b[0m losses \u001b[38;5;241m=\u001b[39m train(epochs, learning_rate, model, loader, zmft_scalar\u001b[38;5;241m=\u001b[39m\u001b[38;5;241m1e-1\u001b[39m, seed\u001b[38;5;241m=\u001b[39m\u001b[38;5;241m1\u001b[39m, device\u001b[38;5;241m=\u001b[39m\u001b[38;5;124m\"\u001b[39m\u001b[38;5;124mcuda\u001b[39m\u001b[38;5;124m\"\u001b[39m)\n",
      "File \u001b[0;32m/nfs/team205/sm58/packages/celcomen_trials/pyg_env/celcomen_tutorial_env/lib/python3.10/site-packages/torch/nn/modules/module.py:1174\u001b[0m, in \u001b[0;36mModule.to\u001b[0;34m(self, *args, **kwargs)\u001b[0m\n\u001b[1;32m   1171\u001b[0m         \u001b[38;5;28;01melse\u001b[39;00m:\n\u001b[1;32m   1172\u001b[0m             \u001b[38;5;28;01mraise\u001b[39;00m\n\u001b[0;32m-> 1174\u001b[0m \u001b[38;5;28;01mreturn\u001b[39;00m \u001b[38;5;28;43mself\u001b[39;49m\u001b[38;5;241;43m.\u001b[39;49m\u001b[43m_apply\u001b[49m\u001b[43m(\u001b[49m\u001b[43mconvert\u001b[49m\u001b[43m)\u001b[49m\n",
      "File \u001b[0;32m/nfs/team205/sm58/packages/celcomen_trials/pyg_env/celcomen_tutorial_env/lib/python3.10/site-packages/torch/nn/modules/module.py:780\u001b[0m, in \u001b[0;36mModule._apply\u001b[0;34m(self, fn, recurse)\u001b[0m\n\u001b[1;32m    778\u001b[0m \u001b[38;5;28;01mif\u001b[39;00m recurse:\n\u001b[1;32m    779\u001b[0m     \u001b[38;5;28;01mfor\u001b[39;00m module \u001b[38;5;129;01min\u001b[39;00m \u001b[38;5;28mself\u001b[39m\u001b[38;5;241m.\u001b[39mchildren():\n\u001b[0;32m--> 780\u001b[0m         \u001b[43mmodule\u001b[49m\u001b[38;5;241;43m.\u001b[39;49m\u001b[43m_apply\u001b[49m\u001b[43m(\u001b[49m\u001b[43mfn\u001b[49m\u001b[43m)\u001b[49m\n\u001b[1;32m    782\u001b[0m \u001b[38;5;28;01mdef\u001b[39;00m \u001b[38;5;21mcompute_should_use_set_data\u001b[39m(tensor, tensor_applied):\n\u001b[1;32m    783\u001b[0m     \u001b[38;5;28;01mif\u001b[39;00m torch\u001b[38;5;241m.\u001b[39m_has_compatible_shallow_copy_type(tensor, tensor_applied):\n\u001b[1;32m    784\u001b[0m         \u001b[38;5;66;03m# If the new tensor has compatible tensor type as the existing tensor,\u001b[39;00m\n\u001b[1;32m    785\u001b[0m         \u001b[38;5;66;03m# the current behavior is to change the tensor in-place using `.data =`,\u001b[39;00m\n\u001b[0;32m   (...)\u001b[0m\n\u001b[1;32m    790\u001b[0m         \u001b[38;5;66;03m# global flag to let the user control whether they want the future\u001b[39;00m\n\u001b[1;32m    791\u001b[0m         \u001b[38;5;66;03m# behavior of overwriting the existing tensor or not.\u001b[39;00m\n",
      "File \u001b[0;32m/nfs/team205/sm58/packages/celcomen_trials/pyg_env/celcomen_tutorial_env/lib/python3.10/site-packages/torch/nn/modules/module.py:780\u001b[0m, in \u001b[0;36mModule._apply\u001b[0;34m(self, fn, recurse)\u001b[0m\n\u001b[1;32m    778\u001b[0m \u001b[38;5;28;01mif\u001b[39;00m recurse:\n\u001b[1;32m    779\u001b[0m     \u001b[38;5;28;01mfor\u001b[39;00m module \u001b[38;5;129;01min\u001b[39;00m \u001b[38;5;28mself\u001b[39m\u001b[38;5;241m.\u001b[39mchildren():\n\u001b[0;32m--> 780\u001b[0m         \u001b[43mmodule\u001b[49m\u001b[38;5;241;43m.\u001b[39;49m\u001b[43m_apply\u001b[49m\u001b[43m(\u001b[49m\u001b[43mfn\u001b[49m\u001b[43m)\u001b[49m\n\u001b[1;32m    782\u001b[0m \u001b[38;5;28;01mdef\u001b[39;00m \u001b[38;5;21mcompute_should_use_set_data\u001b[39m(tensor, tensor_applied):\n\u001b[1;32m    783\u001b[0m     \u001b[38;5;28;01mif\u001b[39;00m torch\u001b[38;5;241m.\u001b[39m_has_compatible_shallow_copy_type(tensor, tensor_applied):\n\u001b[1;32m    784\u001b[0m         \u001b[38;5;66;03m# If the new tensor has compatible tensor type as the existing tensor,\u001b[39;00m\n\u001b[1;32m    785\u001b[0m         \u001b[38;5;66;03m# the current behavior is to change the tensor in-place using `.data =`,\u001b[39;00m\n\u001b[0;32m   (...)\u001b[0m\n\u001b[1;32m    790\u001b[0m         \u001b[38;5;66;03m# global flag to let the user control whether they want the future\u001b[39;00m\n\u001b[1;32m    791\u001b[0m         \u001b[38;5;66;03m# behavior of overwriting the existing tensor or not.\u001b[39;00m\n",
      "File \u001b[0;32m/nfs/team205/sm58/packages/celcomen_trials/pyg_env/celcomen_tutorial_env/lib/python3.10/site-packages/torch/nn/modules/module.py:805\u001b[0m, in \u001b[0;36mModule._apply\u001b[0;34m(self, fn, recurse)\u001b[0m\n\u001b[1;32m    801\u001b[0m \u001b[38;5;66;03m# Tensors stored in modules are graph leaves, and we don't want to\u001b[39;00m\n\u001b[1;32m    802\u001b[0m \u001b[38;5;66;03m# track autograd history of `param_applied`, so we have to use\u001b[39;00m\n\u001b[1;32m    803\u001b[0m \u001b[38;5;66;03m# `with torch.no_grad():`\u001b[39;00m\n\u001b[1;32m    804\u001b[0m \u001b[38;5;28;01mwith\u001b[39;00m torch\u001b[38;5;241m.\u001b[39mno_grad():\n\u001b[0;32m--> 805\u001b[0m     param_applied \u001b[38;5;241m=\u001b[39m \u001b[43mfn\u001b[49m\u001b[43m(\u001b[49m\u001b[43mparam\u001b[49m\u001b[43m)\u001b[49m\n\u001b[1;32m    806\u001b[0m p_should_use_set_data \u001b[38;5;241m=\u001b[39m compute_should_use_set_data(param, param_applied)\n\u001b[1;32m    808\u001b[0m \u001b[38;5;66;03m# subclasses may have multiple child tensors so we need to use swap_tensors\u001b[39;00m\n",
      "File \u001b[0;32m/nfs/team205/sm58/packages/celcomen_trials/pyg_env/celcomen_tutorial_env/lib/python3.10/site-packages/torch/nn/modules/module.py:1160\u001b[0m, in \u001b[0;36mModule.to.<locals>.convert\u001b[0;34m(t)\u001b[0m\n\u001b[1;32m   1153\u001b[0m     \u001b[38;5;28;01mif\u001b[39;00m convert_to_format \u001b[38;5;129;01mis\u001b[39;00m \u001b[38;5;129;01mnot\u001b[39;00m \u001b[38;5;28;01mNone\u001b[39;00m \u001b[38;5;129;01mand\u001b[39;00m t\u001b[38;5;241m.\u001b[39mdim() \u001b[38;5;129;01min\u001b[39;00m (\u001b[38;5;241m4\u001b[39m, \u001b[38;5;241m5\u001b[39m):\n\u001b[1;32m   1154\u001b[0m         \u001b[38;5;28;01mreturn\u001b[39;00m t\u001b[38;5;241m.\u001b[39mto(\n\u001b[1;32m   1155\u001b[0m             device,\n\u001b[1;32m   1156\u001b[0m             dtype \u001b[38;5;28;01mif\u001b[39;00m t\u001b[38;5;241m.\u001b[39mis_floating_point() \u001b[38;5;129;01mor\u001b[39;00m t\u001b[38;5;241m.\u001b[39mis_complex() \u001b[38;5;28;01melse\u001b[39;00m \u001b[38;5;28;01mNone\u001b[39;00m,\n\u001b[1;32m   1157\u001b[0m             non_blocking,\n\u001b[1;32m   1158\u001b[0m             memory_format\u001b[38;5;241m=\u001b[39mconvert_to_format,\n\u001b[1;32m   1159\u001b[0m         )\n\u001b[0;32m-> 1160\u001b[0m     \u001b[38;5;28;01mreturn\u001b[39;00m \u001b[43mt\u001b[49m\u001b[38;5;241;43m.\u001b[39;49m\u001b[43mto\u001b[49m\u001b[43m(\u001b[49m\n\u001b[1;32m   1161\u001b[0m \u001b[43m        \u001b[49m\u001b[43mdevice\u001b[49m\u001b[43m,\u001b[49m\n\u001b[1;32m   1162\u001b[0m \u001b[43m        \u001b[49m\u001b[43mdtype\u001b[49m\u001b[43m \u001b[49m\u001b[38;5;28;43;01mif\u001b[39;49;00m\u001b[43m \u001b[49m\u001b[43mt\u001b[49m\u001b[38;5;241;43m.\u001b[39;49m\u001b[43mis_floating_point\u001b[49m\u001b[43m(\u001b[49m\u001b[43m)\u001b[49m\u001b[43m \u001b[49m\u001b[38;5;129;43;01mor\u001b[39;49;00m\u001b[43m \u001b[49m\u001b[43mt\u001b[49m\u001b[38;5;241;43m.\u001b[39;49m\u001b[43mis_complex\u001b[49m\u001b[43m(\u001b[49m\u001b[43m)\u001b[49m\u001b[43m \u001b[49m\u001b[38;5;28;43;01melse\u001b[39;49;00m\u001b[43m \u001b[49m\u001b[38;5;28;43;01mNone\u001b[39;49;00m\u001b[43m,\u001b[49m\n\u001b[1;32m   1163\u001b[0m \u001b[43m        \u001b[49m\u001b[43mnon_blocking\u001b[49m\u001b[43m,\u001b[49m\n\u001b[1;32m   1164\u001b[0m \u001b[43m    \u001b[49m\u001b[43m)\u001b[49m\n\u001b[1;32m   1165\u001b[0m \u001b[38;5;28;01mexcept\u001b[39;00m \u001b[38;5;167;01mNotImplementedError\u001b[39;00m \u001b[38;5;28;01mas\u001b[39;00m e:\n\u001b[1;32m   1166\u001b[0m     \u001b[38;5;28;01mif\u001b[39;00m \u001b[38;5;28mstr\u001b[39m(e) \u001b[38;5;241m==\u001b[39m \u001b[38;5;124m\"\u001b[39m\u001b[38;5;124mCannot copy out of meta tensor; no data!\u001b[39m\u001b[38;5;124m\"\u001b[39m:\n",
      "\u001b[0;31mOutOfMemoryError\u001b[0m: CUDA out of memory. Tried to allocate 4.19 GiB. GPU 0 has a total capacity of 79.14 GiB of which 1.95 GiB is free. Including non-PyTorch memory, this process has 77.18 GiB memory in use. Of the allocated memory 75.16 GiB is allocated by PyTorch, and 1.53 GiB is reserved by PyTorch but unallocated. If reserved but unallocated memory is large try setting PYTORCH_CUDA_ALLOC_CONF=expandable_segments:True to avoid fragmentation.  See documentation for Memory Management  (https://pytorch.org/docs/stable/notes/cuda.html#environment-variables)"
     ]
    }
   ],
   "source": [
    "n_genes=33538\n",
    "n_neighbors=6\n",
    "seed=1\n",
    "zmft_scalar = 5e-2\n",
    "epochs = 10\n",
    "learning_rate = 5e-1\n",
    "\n",
    "\n",
    "model = celcomen(input_dim=n_genes, output_dim=n_genes, n_neighbors=n_neighbors, seed=seed)\n",
    "model.to(\"cuda\")\n",
    "losses = train(epochs, learning_rate, model, loader, zmft_scalar=1e-1, seed=1, device=\"cuda\")"
   ]
  },
  {
   "cell_type": "code",
   "execution_count": 14,
   "id": "6f801ce3-6b93-41c2-9c11-c668a85a69e7",
   "metadata": {},
   "outputs": [
    {
     "data": {
      "text/plain": [
       "[Text(0.5, 0, 'epochs'), Text(0, 0.5, 'loss')]"
      ]
     },
     "execution_count": 14,
     "metadata": {},
     "output_type": "execute_result"
    },
    {
     "data": {
      "image/png": "[encoded data removed]",
      "text/plain": [
       "<Figure size 600x400 with 1 Axes>"
      ]
     },
     "metadata": {},
     "output_type": "display_data"
    }
   ],
   "source": [
    "# create the plot\n",
    "fig, ax = plt.subplots(figsize=[6, 4])\n",
    "ax.grid(False)\n",
    "ax.plot(losses, lw=2, color='#fe86a4')\n",
    "ax.set_xlim(0, epochs)\n",
    "vmin, vmax = min(min(losses), 0), max(losses)\n",
    "vstep = (vmax - vmin) * 0.01\n",
    "ax.set_ylim(vmin-vstep, vmax+vstep)\n",
    "ax.set(xlabel='epochs', ylabel='loss')"
   ]
  },
  {
   "cell_type": "code",
   "execution_count": 13,
   "id": "alien-television",
   "metadata": {},
   "outputs": [
    {
     "data": {
      "text/plain": [
       "spot_id\n",
       "HCAHeartST10659160_AAACAACGAATAGTTC-1    HCAHeartST10659160\n",
       "HCAHeartST10659160_AAACAAGTATCTCCCA-1    HCAHeartST10659160\n",
       "HCAHeartST10659160_AAACAATCTACTAGCA-1    HCAHeartST10659160\n",
       "HCAHeartST10659160_AAACACCAATAACTGC-1    HCAHeartST10659160\n",
       "HCAHeartST10659160_AAACAGAGCGACTCCT-1    HCAHeartST10659160\n",
       "                                                ...        \n",
       "HCAHeartST13233999_TTGTTCAGTGTGCTAC-1    HCAHeartST13233999\n",
       "HCAHeartST13233999_TTGTTCTAGATACGCT-1    HCAHeartST13233999\n",
       "HCAHeartST13233999_TTGTTGTGTGTCAAGA-1    HCAHeartST13233999\n",
       "HCAHeartST13233999_TTGTTTCCATACAACT-1    HCAHeartST13233999\n",
       "HCAHeartST13233999_TTGTTTGTGTAAATTC-1    HCAHeartST13233999\n",
       "Name: sangerID, Length: 27108, dtype: category\n",
       "Categories (8, object): ['HCAHeartST10659160', 'HCAHeartST12992072', 'HCAHeartST13228105', 'HCAHeartST13228106', 'HCAHeartST13233996', 'HCAHeartST13233997', 'HCAHeartST13233998', 'HCAHeartST13233999']"
      ]
     },
     "execution_count": 13,
     "metadata": {},
     "output_type": "execute_result"
    }
   ],
   "source": [
    "adata = sc.read_h5ad(h5ad_path) \n",
    "adata.obs[\"sangerID\"]"
   ]
  },
  {
   "cell_type": "code",
   "execution_count": 12,
   "id": "bottom-lesson",
   "metadata": {},
   "outputs": [
    {
     "data": {
      "text/plain": [
       "AnnData object with n_obs × n_vars = 27108 × 33538\n",
       "    obs: 'in_tissue', 'array_row', 'array_col', 'sample', 'n_genes_by_counts', 'log1p_n_genes_by_counts', 'total_counts', 'log1p_total_counts', 'pct_counts_in_top_50_genes', 'pct_counts_in_top_100_genes', 'pct_counts_in_top_200_genes', 'pct_counts_in_top_500_genes', 'mt_frac', 'n_counts', 'n_genes', 'annotation_JC', 'sangerID', 'Publication', 'combinedID', 'donor', 'donor_type', 'region', 'region_finest', 'age', 'gender', 'facility', 'cell_or_nuclei', 'modality', 'kit_10x', 'flushed', 'region_cell2loc'\n",
       "    var: 'gene_ids', 'feature_types', 'genome', 'SYMBOL'\n",
       "    uns: 'spatial'\n",
       "    obsm: 'MT', 'means_cell_abundance_w_sf', 'q05_cell_abundance_w_sf', 'q95_cell_abundance_w_sf', 'spatial', 'stds_cell_abundance_w_sf'"
      ]
     },
     "execution_count": 12,
     "metadata": {},
     "output_type": "execute_result"
    }
   ],
   "source": [
    "adata"
   ]
  },
  {
   "cell_type": "code",
   "execution_count": null,
   "id": "bigger-period",
   "metadata": {},
   "outputs": [],
   "source": []
  }
 ],
 "metadata": {
  "kernelspec": {
   "display_name": "celcomen_tutorial_env",
   "language": "python",
   "name": "celcomen_tutorial_env"
  },
  "language_info": {
   "codemirror_mode": {
    "name": "ipython",
    "version": 3
   },
   "file_extension": ".py",
   "mimetype": "text/x-python",
   "name": "python",
   "nbconvert_exporter": "python",
   "pygments_lexer": "ipython3",
   "version": "3.10.14"
  }
 },
 "nbformat": 4,
 "nbformat_minor": 5
}
