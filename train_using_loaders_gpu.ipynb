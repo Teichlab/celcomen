{
 "cells": [
  {
   "cell_type": "code",
   "execution_count": 8,
   "id": "anonymous-paris",
   "metadata": {},
   "outputs": [],
   "source": [
    "from celcomen.models.celcomen import celcomen\n",
    "from celcomen.models.simcomen import simcomen\n",
    "from celcomen.training_plan.train import train\n",
    "from celcomen.datareaders.datareader import get_dataset_loaders\n"
   ]
  },
  {
   "cell_type": "code",
   "execution_count": 9,
   "id": "aboriginal-discharge",
   "metadata": {},
   "outputs": [
    {
     "name": "stdout",
     "output_type": "stream",
     "text": [
      "/nfs/team205/sm58/packages/celcomen_trials/celcomen_final\n"
     ]
    }
   ],
   "source": [
    "!pwd"
   ]
  },
  {
   "cell_type": "code",
   "execution_count": 10,
   "id": "billion-survivor",
   "metadata": {},
   "outputs": [
    {
     "name": "stdout",
     "output_type": "stream",
     "text": [
      "The autoreload extension is already loaded. To reload it, use:\n",
      "  %reload_ext autoreload\n"
     ]
    }
   ],
   "source": [
    "%load_ext autoreload\n",
    "%autoreload 2"
   ]
  },
  {
   "cell_type": "code",
   "execution_count": 11,
   "id": "facial-cassette",
   "metadata": {},
   "outputs": [],
   "source": [
    "import scanpy as sc\n",
    "import numpy as np\n",
    "import matplotlib.pyplot as plt\n",
    "import pandas as pd"
   ]
  },
  {
   "cell_type": "code",
   "execution_count": 12,
   "id": "distinguished-addiction",
   "metadata": {},
   "outputs": [
    {
     "name": "stdout",
     "output_type": "stream",
     "text": [
      "Step 1\n",
      "=====\n",
      "Number of graphs in the current batch: 1\n",
      "DataBatch(x=[3802, 20715], edge_index=[2, 22812], y=[1], pos=[3802, 2], batch=[3802], ptr=[2])\n",
      "\n",
      "Step 2\n",
      "=====\n",
      "Number of graphs in the current batch: 1\n",
      "DataBatch(x=[2881, 20715], edge_index=[2, 17286], y=[1], pos=[2881, 2], batch=[2881], ptr=[2])\n",
      "\n",
      "Step 3\n",
      "=====\n",
      "Number of graphs in the current batch: 1\n",
      "DataBatch(x=[3052, 20715], edge_index=[2, 18312], y=[1], pos=[3052, 2], batch=[3052], ptr=[2])\n",
      "\n",
      "Step 4\n",
      "=====\n",
      "Number of graphs in the current batch: 1\n",
      "DataBatch(x=[3448, 20715], edge_index=[2, 20688], y=[1], pos=[3448, 2], batch=[3448], ptr=[2])\n",
      "\n",
      "Step 5\n",
      "=====\n",
      "Number of graphs in the current batch: 1\n",
      "DataBatch(x=[4243, 20715], edge_index=[2, 25458], y=[1], pos=[4243, 2], batch=[4243], ptr=[2])\n",
      "\n",
      "Step 6\n",
      "=====\n",
      "Number of graphs in the current batch: 1\n",
      "DataBatch(x=[3430, 20715], edge_index=[2, 20580], y=[1], pos=[3430, 2], batch=[3430], ptr=[2])\n",
      "\n",
      "Step 7\n",
      "=====\n",
      "Number of graphs in the current batch: 1\n",
      "DataBatch(x=[2852, 20715], edge_index=[2, 17112], y=[1], pos=[2852, 2], batch=[2852], ptr=[2])\n",
      "\n",
      "Step 8\n",
      "=====\n",
      "Number of graphs in the current batch: 1\n",
      "DataBatch(x=[3400, 20715], edge_index=[2, 20400], y=[1], pos=[3400, 2], batch=[3400], ptr=[2])\n",
      "\n"
     ]
    }
   ],
   "source": [
    "h5ad_path=\"data/visium-OCT_SAN_raw.h5ad\"\n",
    "\n",
    "loader = get_dataset_loaders(\"data/visium-OCT_SAN_raw.h5ad\", \"sangerID\", 6, True, )"
   ]
  },
  {
   "cell_type": "code",
   "execution_count": 13,
   "id": "c1c8c222-7776-42bf-b071-6f145ad1bd32",
   "metadata": {},
   "outputs": [
    {
     "data": {
      "text/plain": [
       "True"
      ]
     },
     "execution_count": 13,
     "metadata": {},
     "output_type": "execute_result"
    }
   ],
   "source": [
    "import torch\n",
    "torch.cuda.is_available()"
   ]
  },
  {
   "cell_type": "code",
   "execution_count": 14,
   "id": "lovely-chance",
   "metadata": {},
   "outputs": [
    {
     "name": "stdout",
     "output_type": "stream",
     "text": [
      "Epoch=0   |   Loss=3045.880859375\n",
      "Epoch=1   |   Loss=3075.81787109375\n",
      "Epoch=2   |   Loss=3007.5185546875\n",
      "Epoch=3   |   Loss=2950.381103515625\n",
      "Epoch=4   |   Loss=2902.04638671875\n",
      "Epoch=5   |   Loss=2860.72802734375\n",
      "Epoch=6   |   Loss=2825.123291015625\n",
      "Epoch=7   |   Loss=2794.169921875\n",
      "Epoch=8   |   Loss=2767.037841796875\n",
      "Epoch=9   |   Loss=2743.08349609375\n",
      "Epoch=10   |   Loss=2721.79833984375\n",
      "Epoch=11   |   Loss=2702.72412109375\n",
      "Epoch=12   |   Loss=2685.56201171875\n",
      "Epoch=13   |   Loss=2670.029541015625\n",
      "Epoch=14   |   Loss=2655.916015625\n",
      "Epoch=15   |   Loss=2643.045654296875\n",
      "Epoch=16   |   Loss=2631.25537109375\n",
      "Epoch=17   |   Loss=2620.425537109375\n",
      "Epoch=18   |   Loss=2610.43603515625\n",
      "Epoch=19   |   Loss=2601.190185546875\n",
      "Epoch=20   |   Loss=2592.60693359375\n",
      "Epoch=21   |   Loss=2584.6181640625\n",
      "Epoch=22   |   Loss=2577.16064453125\n",
      "Epoch=23   |   Loss=2570.1806640625\n",
      "Epoch=24   |   Loss=2563.629638671875\n",
      "Epoch=25   |   Loss=2557.469482421875\n",
      "Epoch=26   |   Loss=2551.662109375\n",
      "Epoch=27   |   Loss=2546.17626953125\n",
      "Epoch=28   |   Loss=2540.984619140625\n",
      "Epoch=29   |   Loss=2536.062255859375\n",
      "Epoch=30   |   Loss=2531.385498046875\n",
      "Epoch=31   |   Loss=2526.935546875\n",
      "Epoch=32   |   Loss=2522.6953125\n",
      "Epoch=33   |   Loss=2518.64990234375\n",
      "Epoch=34   |   Loss=2514.7861328125\n",
      "Epoch=35   |   Loss=2511.08935546875\n",
      "Epoch=36   |   Loss=2507.549560546875\n",
      "Epoch=37   |   Loss=2504.157958984375\n",
      "Epoch=38   |   Loss=2500.90380859375\n",
      "Epoch=39   |   Loss=2497.77978515625\n",
      "Epoch=40   |   Loss=2494.77734375\n",
      "Epoch=41   |   Loss=2491.889892578125\n",
      "Epoch=42   |   Loss=2489.1103515625\n",
      "Epoch=43   |   Loss=2486.4326171875\n",
      "Epoch=44   |   Loss=2483.85107421875\n",
      "Epoch=45   |   Loss=2481.36083984375\n",
      "Epoch=46   |   Loss=2478.95703125\n",
      "Epoch=47   |   Loss=2476.635498046875\n",
      "Epoch=48   |   Loss=2474.39111328125\n",
      "Epoch=49   |   Loss=2472.22021484375\n",
      "Epoch=50   |   Loss=2470.11962890625\n",
      "Epoch=51   |   Loss=2468.0859375\n",
      "Epoch=52   |   Loss=2466.114990234375\n",
      "Epoch=53   |   Loss=2464.205078125\n",
      "Epoch=54   |   Loss=2462.3525390625\n",
      "Epoch=55   |   Loss=2460.55517578125\n",
      "Epoch=56   |   Loss=2458.810546875\n",
      "Epoch=57   |   Loss=2457.1162109375\n",
      "Epoch=58   |   Loss=2455.469970703125\n",
      "Epoch=59   |   Loss=2453.8701171875\n",
      "Epoch=60   |   Loss=2452.314697265625\n",
      "Epoch=61   |   Loss=2450.80126953125\n",
      "Epoch=62   |   Loss=2449.3291015625\n",
      "Epoch=63   |   Loss=2447.8955078125\n",
      "Epoch=64   |   Loss=2446.49951171875\n",
      "Epoch=65   |   Loss=2445.1396484375\n",
      "Epoch=66   |   Loss=2443.814453125\n",
      "Epoch=67   |   Loss=2442.5224609375\n",
      "Epoch=68   |   Loss=2441.2626953125\n",
      "Epoch=69   |   Loss=2440.03369140625\n",
      "Epoch=70   |   Loss=2438.83447265625\n",
      "Epoch=71   |   Loss=2437.663818359375\n",
      "Epoch=72   |   Loss=2436.521240234375\n",
      "Epoch=73   |   Loss=2435.40478515625\n",
      "Epoch=74   |   Loss=2434.314453125\n",
      "Epoch=75   |   Loss=2433.248779296875\n",
      "Epoch=76   |   Loss=2432.20751953125\n",
      "Epoch=77   |   Loss=2431.189208984375\n",
      "Epoch=78   |   Loss=2430.193359375\n",
      "Epoch=79   |   Loss=2429.2197265625\n",
      "Epoch=80   |   Loss=2428.2666015625\n",
      "Epoch=81   |   Loss=2427.333984375\n",
      "Epoch=82   |   Loss=2426.42138671875\n",
      "Epoch=83   |   Loss=2425.52734375\n",
      "Epoch=84   |   Loss=2424.65234375\n",
      "Epoch=85   |   Loss=2423.794921875\n",
      "Epoch=86   |   Loss=2422.955322265625\n",
      "Epoch=87   |   Loss=2422.132080078125\n",
      "Epoch=88   |   Loss=2421.32568359375\n",
      "Epoch=89   |   Loss=2420.534912109375\n",
      "Epoch=90   |   Loss=2419.759765625\n",
      "Epoch=91   |   Loss=2418.99951171875\n",
      "Epoch=92   |   Loss=2418.25341796875\n",
      "Epoch=93   |   Loss=2417.521484375\n",
      "Epoch=94   |   Loss=2416.80419921875\n",
      "Epoch=95   |   Loss=2416.099609375\n",
      "Epoch=96   |   Loss=2415.40771484375\n",
      "Epoch=97   |   Loss=2414.728515625\n",
      "Epoch=98   |   Loss=2414.061767578125\n",
      "Epoch=99   |   Loss=2413.4072265625\n"
     ]
    }
   ],
   "source": [
    "n_genes= 20715 #33\n",
    "n_neighbors=6\n",
    "seed=1\n",
    "zmft_scalar = 0.01\n",
    "epochs = 100\n",
    "learning_rate = 5e-3\n",
    "\n",
    "\n",
    "model = celcomen(input_dim=n_genes, output_dim=n_genes, n_neighbors=n_neighbors, seed=seed)\n",
    "model.to(\"cuda\")\n",
    "losses = train(epochs, learning_rate, model, loader, zmft_scalar=zmft_scalar, seed=1, device=\"cuda\")"
   ]
  },
  {
   "cell_type": "code",
   "execution_count": 15,
   "id": "6f801ce3-6b93-41c2-9c11-c668a85a69e7",
   "metadata": {},
   "outputs": [
    {
     "data": {
      "text/plain": [
       "[Text(0.5, 0, 'epochs'), Text(0, 0.5, 'loss')]"
      ]
     },
     "execution_count": 15,
     "metadata": {},
     "output_type": "execute_result"
    },
    {
     "data": {
      "image/png": "[encoded data removed]",
      "text/plain": [
       "<Figure size 600x400 with 1 Axes>"
      ]
     },
     "metadata": {},
     "output_type": "display_data"
    }
   ],
   "source": [
    "# create the plot\n",
    "fig, ax = plt.subplots(figsize=[6, 4])\n",
    "ax.grid(False)\n",
    "ax.plot(losses, lw=2, color='#fe86a4')\n",
    "ax.set_xlim(0, epochs)\n",
    "vmin, vmax = min(min(losses), 0), max(losses)\n",
    "vstep = (vmax - vmin) * 0.01\n",
    "ax.set_ylim(vmin-vstep, vmax+vstep)\n",
    "ax.set(xlabel='epochs', ylabel='loss')"
   ]
  },
  {
   "cell_type": "code",
   "execution_count": 16,
   "id": "4a476c59-a89e-4633-9911-1d485f537bcd",
   "metadata": {},
   "outputs": [],
   "source": [
    "# '\\''+'\\',\\''.join(pd.DataFrame(avis_sub.uns['rank_genes_groups']['names']).iloc[:25, 0].tolist())+'\\''"
   ]
  },
  {
   "cell_type": "code",
   "execution_count": 17,
   "id": "alien-television",
   "metadata": {},
   "outputs": [],
   "source": [
    "# # propose an X introducing ISG15 inflammation\n",
    "# proposed_x = avis_sub.X.toarray().copy()\n",
    "# # adjust the X so we artificially introduce signaling to the center left side of the tissue\n",
    "# np.random.seed(0)\n",
    "# df_gex = sc.get.obs_df(avis_sub, keys=['IFITM3'])['IFITM3']\n",
    "# mask = avis_sub.obs.index == np.random.choice(avis_sub.obs.index[df_gex > 0], size=1)[0]\n",
    "# idx = np.where(avis_sub.var_names == 'IFITM3')[0][0]\n",
    "# proposed_x[mask, idx] = 0\n",
    "# avis_sub.obs['perturbed'] = 'unperturbed'\n",
    "# avis_sub.obs['perturbed'].iloc[np.where(squareform(pdist(avis_sub.obsm['spatial']))[mask, :] < 30)[1]] = 'perturbed-neighbors1'\n",
    "# avis_sub.obs['perturbed'].iloc[np.where(squareform(pdist(avis_sub.obsm['spatial']))[mask, :] < 15)[1]] = 'perturbed-neighbors0'\n",
    "# avis_sub.obs.loc[mask, 'perturbed'] = 'perturbed'\n",
    "# avis_sub.uns['perturbed_colors'] = ['#ff47a6','#f593c2','#f7cbe0','#f7ebf1']\n",
    "# sc.pl.embedding(avis_sub, basis='spatial', color=['perturbed'], use_raw=False, s=1e2)"
   ]
  },
  {
   "cell_type": "code",
   "execution_count": null,
   "id": "bigger-period",
   "metadata": {},
   "outputs": [],
   "source": []
  }
 ],
 "metadata": {
  "kernelspec": {
   "display_name": "celcomen_tutorial_env",
   "language": "python",
   "name": "celcomen_tutorial_env"
  },
  "language_info": {
   "codemirror_mode": {
    "name": "ipython",
    "version": 3
   },
   "file_extension": ".py",
   "mimetype": "text/x-python",
   "name": "python",
   "nbconvert_exporter": "python",
   "pygments_lexer": "ipython3",
   "version": "3.10.14"
  }
 },
 "nbformat": 4,
 "nbformat_minor": 5
}
