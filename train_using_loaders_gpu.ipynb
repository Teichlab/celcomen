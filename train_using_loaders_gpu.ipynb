{
 "cells": [
  {
   "cell_type": "code",
   "execution_count": 24,
   "id": "anonymous-paris",
   "metadata": {},
   "outputs": [],
   "source": [
    "from celcomen.models.celcomen import celcomen\n",
    "from celcomen.models.simcomen import simcomen\n",
    "from celcomen.utils.helpers import normalize_g2g, calc_sphex, calc_gex"
   ]
  },
  {
   "cell_type": "code",
   "execution_count": 25,
   "id": "aboriginal-discharge",
   "metadata": {},
   "outputs": [
    {
     "name": "stdout",
     "output_type": "stream",
     "text": [
      "/nfs/team205/sm58/packages/celcomen_trials/celcomen_final\n"
     ]
    }
   ],
   "source": [
    "!pwd"
   ]
  },
  {
   "cell_type": "code",
   "execution_count": 26,
   "id": "billion-survivor",
   "metadata": {},
   "outputs": [
    {
     "name": "stdout",
     "output_type": "stream",
     "text": [
      "The autoreload extension is already loaded. To reload it, use:\n",
      "  %reload_ext autoreload\n"
     ]
    }
   ],
   "source": [
    "%load_ext autoreload\n",
    "%autoreload 2"
   ]
  },
  {
   "cell_type": "code",
   "execution_count": 27,
   "id": "facial-cassette",
   "metadata": {},
   "outputs": [],
   "source": [
    "import scanpy as sc\n",
    "import numpy as np\n",
    "import matplotlib.pyplot as plt\n",
    "import pandas as pd"
   ]
  },
  {
   "cell_type": "code",
   "execution_count": 109,
   "id": "national-robinson",
   "metadata": {},
   "outputs": [],
   "source": [
    "from torch_geometric.loader import DataLoader\n",
    "import scanpy as sc\n",
    "import torch\n",
    "import torch_geometric\n",
    "from sklearn.neighbors import kneighbors_graph\n",
    "\n",
    "def get_dataset_loaders(h5ad_path: str, sample_id_name: str, n_neighbors: int, verbose: bool):\n",
    "\n",
    "    adata = sc.read_h5ad(h5ad_path) \n",
    "\n",
    "    sc.pp.filter_genes(adata, min_cells=5)\n",
    "    sc.pp.normalize_total(adata, target_sum=1e4)\n",
    "    sc.pp.log1p(adata)\n",
    "    sc.pp.highly_variable_genes(adata, flavor='seurat', n_top_genes=20000, subset=True)\n",
    "    \n",
    "    print(adata)\n",
    "\n",
    "    adata_list = [  adata[adata.obs[sample_id_name]==i] for i in set(adata.obs[sample_id_name])  ]\n",
    "\n",
    "    data_list = []\n",
    "    n_neighbors = 6\n",
    "\n",
    "    for adata in adata_list:\n",
    "        pos = torch.from_numpy(adata.obsm[\"spatial\"])\n",
    "        x = torch.from_numpy(adata.X.todense())    # here x is nodes x 33500 -> add filteration here to take \"best\" 100\n",
    "        # normalize x \n",
    "        norm_factor = torch.pow(x,2).sum(1).reshape(-1,1)\n",
    "        x = torch.div(x, norm_factor)\n",
    "        y = torch.Tensor([0])   # here we will store GT value\n",
    "        #edge_index = knn_graph(pos, k=n_neighbors)\n",
    "        edge_index = kneighbors_graph(pos, n_neighbors, include_self=False).todense()\n",
    "        edge_index = torch.from_numpy(np.array(np.where(edge_index)))\n",
    "        data = torch_geometric.data.Data(x=x, pos=pos, y=y, edge_index=edge_index)\n",
    "        data.validate(raise_on_error=True)    # performs basic checks on the graph\n",
    "        data_list.append(data)\n",
    "\n",
    "    #data_list = data_list[:1]\n",
    "\n",
    "    loader = DataLoader( data_list, batch_size=1, shuffle=True)\n",
    "\n",
    "    if verbose:\n",
    "        for step, data in enumerate(loader):\n",
    "            print(f'Step {step+1}')\n",
    "            print(\"=====\")\n",
    "            print(f'Number of graphs in the current batch: {data.num_graphs}')\n",
    "            print(data)\n",
    "            print()\n",
    "\n",
    "    return loader"
   ]
  },
  {
   "cell_type": "code",
   "execution_count": 110,
   "id": "distinguished-addiction",
   "metadata": {},
   "outputs": [
    {
     "name": "stdout",
     "output_type": "stream",
     "text": [
      "AnnData object with n_obs × n_vars = 27108 × 20000\n",
      "    obs: 'in_tissue', 'array_row', 'array_col', 'sample', 'n_genes_by_counts', 'log1p_n_genes_by_counts', 'total_counts', 'log1p_total_counts', 'pct_counts_in_top_50_genes', 'pct_counts_in_top_100_genes', 'pct_counts_in_top_200_genes', 'pct_counts_in_top_500_genes', 'mt_frac', 'n_counts', 'n_genes', 'annotation_JC', 'sangerID', 'Publication', 'combinedID', 'donor', 'donor_type', 'region', 'region_finest', 'age', 'gender', 'facility', 'cell_or_nuclei', 'modality', 'kit_10x', 'flushed', 'region_cell2loc'\n",
      "    var: 'gene_ids', 'feature_types', 'genome', 'SYMBOL', 'n_cells', 'highly_variable', 'means', 'dispersions', 'dispersions_norm'\n",
      "    uns: 'spatial', 'log1p', 'hvg'\n",
      "    obsm: 'MT', 'means_cell_abundance_w_sf', 'q05_cell_abundance_w_sf', 'q95_cell_abundance_w_sf', 'spatial', 'stds_cell_abundance_w_sf'\n",
      "Step 1\n",
      "=====\n",
      "Number of graphs in the current batch: 1\n",
      "DataBatch(x=[3448, 20000], edge_index=[2, 20688], y=[1], pos=[3448, 2], batch=[3448], ptr=[2])\n",
      "\n",
      "Step 2\n",
      "=====\n",
      "Number of graphs in the current batch: 1\n",
      "DataBatch(x=[3802, 20000], edge_index=[2, 22812], y=[1], pos=[3802, 2], batch=[3802], ptr=[2])\n",
      "\n",
      "Step 3\n",
      "=====\n",
      "Number of graphs in the current batch: 1\n",
      "DataBatch(x=[2852, 20000], edge_index=[2, 17112], y=[1], pos=[2852, 2], batch=[2852], ptr=[2])\n",
      "\n",
      "Step 4\n",
      "=====\n",
      "Number of graphs in the current batch: 1\n",
      "DataBatch(x=[3400, 20000], edge_index=[2, 20400], y=[1], pos=[3400, 2], batch=[3400], ptr=[2])\n",
      "\n",
      "Step 5\n",
      "=====\n",
      "Number of graphs in the current batch: 1\n",
      "DataBatch(x=[4243, 20000], edge_index=[2, 25458], y=[1], pos=[4243, 2], batch=[4243], ptr=[2])\n",
      "\n",
      "Step 6\n",
      "=====\n",
      "Number of graphs in the current batch: 1\n",
      "DataBatch(x=[3052, 20000], edge_index=[2, 18312], y=[1], pos=[3052, 2], batch=[3052], ptr=[2])\n",
      "\n",
      "Step 7\n",
      "=====\n",
      "Number of graphs in the current batch: 1\n",
      "DataBatch(x=[2881, 20000], edge_index=[2, 17286], y=[1], pos=[2881, 2], batch=[2881], ptr=[2])\n",
      "\n",
      "Step 8\n",
      "=====\n",
      "Number of graphs in the current batch: 1\n",
      "DataBatch(x=[3430, 20000], edge_index=[2, 20580], y=[1], pos=[3430, 2], batch=[3430], ptr=[2])\n",
      "\n"
     ]
    }
   ],
   "source": [
    "h5ad_path=\"data/visium-OCT_SAN_raw.h5ad\"\n",
    "\n",
    "loader = get_dataset_loaders(\"data/visium-OCT_SAN_raw.h5ad\", \"sangerID\", 6, True, )"
   ]
  },
  {
   "cell_type": "code",
   "execution_count": null,
   "id": "usual-inspiration",
   "metadata": {},
   "outputs": [],
   "source": []
  },
  {
   "cell_type": "code",
   "execution_count": 111,
   "id": "anticipated-surveillance",
   "metadata": {},
   "outputs": [],
   "source": [
    "from tqdm import tqdm\n",
    "import numpy as np\n",
    "import torch\n",
    "            \n",
    "            \n",
    "def train(num_epochs, learning_rate, model, loader, zmft_scalar=1e-1, seed=1, device=\"cpu\"):\n",
    "    \n",
    "    optimizer = torch.optim.SGD(model.parameters(), lr=learning_rate, momentum=0)\n",
    "    losses = []\n",
    "    model.train()\n",
    "    torch.manual_seed(seed)\n",
    "    \n",
    "    for epoch in range(num_epochs):\n",
    "        losses_= []\n",
    "\n",
    "        for data in loader:\n",
    "            # move data to device\n",
    "            data = data.to(device)\n",
    "            # train loader  # Iterate in batches over the training dataset.\n",
    "            # set the appropriate gex\n",
    "            model.set_gex(data.x)\n",
    "            # derive the message as well as the mean field approximation\n",
    "            msg, msg_intra, log_z_mft = model(data.edge_index, 1)\n",
    "            # compute the loss and track it\n",
    "            loss = -(-log_z_mft + zmft_scalar * torch.trace(torch.mm(msg, torch.t(model.gex))) + zmft_scalar * torch.trace(torch.mm(msg_intra, torch.t(model.gex))) )\n",
    "            if device==\"cpu\":\n",
    "                losses_.append(loss.detach().numpy()[0][0])\n",
    "            else:\n",
    "                losses_.append(loss.detach().cpu().numpy()[0][0])\n",
    "            # derive the gradients, update, and clear\n",
    "            loss.backward()\n",
    "            optimizer.step()\n",
    "            optimizer.zero_grad()\n",
    "            # repeatedly force a normalization\n",
    "            model.conv1.lin.weight = torch.nn.Parameter(normalize_g2g(model.conv1.lin.weight), requires_grad=True)\n",
    "            model.lin.weight = torch.nn.Parameter(normalize_g2g(model.lin.weight), requires_grad=True)\n",
    "            optimizer = torch.optim.SGD(model.parameters(), lr=learning_rate, momentum=0)\n",
    "            \n",
    "        print(f\"Epoch={epoch}   |   Loss={np.mean(losses_)}\")\n",
    "        losses.append(np.mean(losses_))\n",
    "\n",
    "    return losses\n"
   ]
  },
  {
   "cell_type": "code",
   "execution_count": 112,
   "id": "c1c8c222-7776-42bf-b071-6f145ad1bd32",
   "metadata": {},
   "outputs": [
    {
     "data": {
      "text/plain": [
       "True"
      ]
     },
     "execution_count": 112,
     "metadata": {},
     "output_type": "execute_result"
    }
   ],
   "source": [
    "torch.cuda.is_available()"
   ]
  },
  {
   "cell_type": "code",
   "execution_count": 115,
   "id": "lovely-chance",
   "metadata": {},
   "outputs": [
    {
     "name": "stdout",
     "output_type": "stream",
     "text": [
      "Epoch=0   |   Loss=3006.8486328125\n",
      "Epoch=1   |   Loss=3079.48095703125\n",
      "Epoch=2   |   Loss=3010.28857421875\n",
      "Epoch=3   |   Loss=2952.48388671875\n",
      "Epoch=4   |   Loss=2903.593017578125\n",
      "Epoch=5   |   Loss=2861.869140625\n",
      "Epoch=6   |   Loss=2825.90478515625\n",
      "Epoch=7   |   Loss=2794.681640625\n",
      "Epoch=8   |   Loss=2767.325439453125\n",
      "Epoch=9   |   Loss=2743.2021484375\n",
      "Epoch=10   |   Loss=2721.763916015625\n",
      "Epoch=11   |   Loss=2702.5732421875\n",
      "Epoch=12   |   Loss=2685.2958984375\n",
      "Epoch=13   |   Loss=2669.68017578125\n",
      "Epoch=14   |   Loss=2655.48974609375\n",
      "Epoch=15   |   Loss=2642.556640625\n",
      "Epoch=16   |   Loss=2630.7138671875\n",
      "Epoch=17   |   Loss=2619.834716796875\n",
      "Epoch=18   |   Loss=2609.8037109375\n",
      "Epoch=19   |   Loss=2600.5234375\n",
      "Epoch=20   |   Loss=2591.91455078125\n",
      "Epoch=21   |   Loss=2583.902587890625\n",
      "Epoch=22   |   Loss=2576.42431640625\n",
      "Epoch=23   |   Loss=2569.42333984375\n",
      "Epoch=24   |   Loss=2562.858642578125\n",
      "Epoch=25   |   Loss=2556.68505859375\n",
      "Epoch=26   |   Loss=2550.86767578125\n",
      "Epoch=27   |   Loss=2545.3740234375\n",
      "Epoch=28   |   Loss=2540.1748046875\n",
      "Epoch=29   |   Loss=2535.2470703125\n",
      "Epoch=30   |   Loss=2530.5654296875\n",
      "Epoch=31   |   Loss=2526.11083984375\n",
      "Epoch=32   |   Loss=2521.8681640625\n",
      "Epoch=33   |   Loss=2517.819091796875\n",
      "Epoch=34   |   Loss=2513.95263671875\n",
      "Epoch=35   |   Loss=2510.255126953125\n",
      "Epoch=36   |   Loss=2506.71533203125\n",
      "Epoch=37   |   Loss=2503.32275390625\n",
      "Epoch=38   |   Loss=2500.0693359375\n",
      "Epoch=39   |   Loss=2496.94482421875\n",
      "Epoch=40   |   Loss=2493.942626953125\n",
      "Epoch=41   |   Loss=2491.0556640625\n",
      "Epoch=42   |   Loss=2488.276611328125\n",
      "Epoch=43   |   Loss=2485.60009765625\n",
      "Epoch=44   |   Loss=2483.02001953125\n",
      "Epoch=45   |   Loss=2480.5322265625\n",
      "Epoch=46   |   Loss=2478.130859375\n",
      "Epoch=47   |   Loss=2475.810791015625\n",
      "Epoch=48   |   Loss=2473.5693359375\n",
      "Epoch=49   |   Loss=2471.40087890625\n",
      "Epoch=50   |   Loss=2469.3037109375\n",
      "Epoch=51   |   Loss=2467.27294921875\n",
      "Epoch=52   |   Loss=2465.30615234375\n",
      "Epoch=53   |   Loss=2463.3994140625\n",
      "Epoch=54   |   Loss=2461.55078125\n",
      "Epoch=55   |   Loss=2459.75732421875\n",
      "Epoch=56   |   Loss=2458.0166015625\n",
      "Epoch=57   |   Loss=2456.326171875\n",
      "Epoch=58   |   Loss=2454.68408203125\n",
      "Epoch=59   |   Loss=2453.088134765625\n",
      "Epoch=60   |   Loss=2451.53662109375\n",
      "Epoch=61   |   Loss=2450.027587890625\n",
      "Epoch=62   |   Loss=2448.55859375\n",
      "Epoch=63   |   Loss=2447.12890625\n",
      "Epoch=64   |   Loss=2445.737060546875\n",
      "Epoch=65   |   Loss=2444.380859375\n",
      "Epoch=66   |   Loss=2443.059814453125\n",
      "Epoch=67   |   Loss=2441.771728515625\n",
      "Epoch=68   |   Loss=2440.515869140625\n",
      "Epoch=69   |   Loss=2439.29052734375\n",
      "Epoch=70   |   Loss=2438.094970703125\n",
      "Epoch=71   |   Loss=2436.9287109375\n",
      "Epoch=72   |   Loss=2435.7890625\n",
      "Epoch=73   |   Loss=2434.6767578125\n",
      "Epoch=74   |   Loss=2433.59033203125\n",
      "Epoch=75   |   Loss=2432.529052734375\n",
      "Epoch=76   |   Loss=2431.49169921875\n",
      "Epoch=77   |   Loss=2430.47705078125\n",
      "Epoch=78   |   Loss=2429.4853515625\n",
      "Epoch=79   |   Loss=2428.51513671875\n",
      "Epoch=80   |   Loss=2427.566162109375\n",
      "Epoch=81   |   Loss=2426.63720703125\n",
      "Epoch=82   |   Loss=2425.727783203125\n",
      "Epoch=83   |   Loss=2424.837890625\n",
      "Epoch=84   |   Loss=2423.96630859375\n",
      "Epoch=85   |   Loss=2423.112548828125\n",
      "Epoch=86   |   Loss=2422.2763671875\n",
      "Epoch=87   |   Loss=2421.456787109375\n",
      "Epoch=88   |   Loss=2420.65380859375\n",
      "Epoch=89   |   Loss=2419.866455078125\n",
      "Epoch=90   |   Loss=2419.09423828125\n",
      "Epoch=91   |   Loss=2418.337646484375\n",
      "Epoch=92   |   Loss=2417.59521484375\n",
      "Epoch=93   |   Loss=2416.86669921875\n",
      "Epoch=94   |   Loss=2416.15234375\n",
      "Epoch=95   |   Loss=2415.45068359375\n",
      "Epoch=96   |   Loss=2414.76220703125\n",
      "Epoch=97   |   Loss=2414.0869140625\n",
      "Epoch=98   |   Loss=2413.423095703125\n",
      "Epoch=99   |   Loss=2412.771484375\n"
     ]
    }
   ],
   "source": [
    "n_genes= 20000 #20715 #33\n",
    "n_neighbors=6\n",
    "seed=1\n",
    "zmft_scalar = 0.01\n",
    "epochs = 100\n",
    "learning_rate = 5e-3\n",
    "\n",
    "\n",
    "model = celcomen(input_dim=n_genes, output_dim=n_genes, n_neighbors=n_neighbors, seed=seed)\n",
    "model.to(\"cuda\")\n",
    "losses = train(epochs, learning_rate, model, loader, zmft_scalar=zmft_scalar, seed=1, device=\"cuda\")"
   ]
  },
  {
   "cell_type": "code",
   "execution_count": 116,
   "id": "6f801ce3-6b93-41c2-9c11-c668a85a69e7",
   "metadata": {},
   "outputs": [
    {
     "data": {
      "text/plain": [
       "[Text(0.5, 0, 'epochs'), Text(0, 0.5, 'loss')]"
      ]
     },
     "execution_count": 116,
     "metadata": {},
     "output_type": "execute_result"
    },
    {
     "data": {
      "image/png": "[encoded data removed]",
      "text/plain": [
       "<Figure size 600x400 with 1 Axes>"
      ]
     },
     "metadata": {},
     "output_type": "display_data"
    }
   ],
   "source": [
    "# create the plot\n",
    "fig, ax = plt.subplots(figsize=[6, 4])\n",
    "ax.grid(False)\n",
    "ax.plot(losses, lw=2, color='#fe86a4')\n",
    "ax.set_xlim(0, epochs)\n",
    "vmin, vmax = min(min(losses), 0), max(losses)\n",
    "vstep = (vmax - vmin) * 0.01\n",
    "ax.set_ylim(vmin-vstep, vmax+vstep)\n",
    "ax.set(xlabel='epochs', ylabel='loss')"
   ]
  },
  {
   "cell_type": "code",
   "execution_count": null,
   "id": "92fc9243-25ba-469f-99fd-499a74f3d2d9",
   "metadata": {},
   "outputs": [],
   "source": [
    "adata = sc.read_h5ad(h5ad_path) \n",
    "adata_list = [  adata[adata.obs[sample_id_name]==i] for i in set(adata.obs[\"sangerID\"])  ]\n",
    "adata_control = adata_list[0]"
   ]
  },
  {
   "cell_type": "code",
   "execution_count": null,
   "id": "804812c9-4b3c-43fb-b4d2-9350161e60a1",
   "metadata": {},
   "outputs": [],
   "source": []
  },
  {
   "cell_type": "code",
   "execution_count": null,
   "id": "4a476c59-a89e-4633-9911-1d485f537bcd",
   "metadata": {},
   "outputs": [],
   "source": []
  },
  {
   "cell_type": "code",
   "execution_count": 13,
   "id": "alien-television",
   "metadata": {},
   "outputs": [
    {
     "data": {
      "text/plain": [
       "spot_id\n",
       "HCAHeartST10659160_AAACAACGAATAGTTC-1    HCAHeartST10659160\n",
       "HCAHeartST10659160_AAACAAGTATCTCCCA-1    HCAHeartST10659160\n",
       "HCAHeartST10659160_AAACAATCTACTAGCA-1    HCAHeartST10659160\n",
       "HCAHeartST10659160_AAACACCAATAACTGC-1    HCAHeartST10659160\n",
       "HCAHeartST10659160_AAACAGAGCGACTCCT-1    HCAHeartST10659160\n",
       "                                                ...        \n",
       "HCAHeartST13233999_TTGTTCAGTGTGCTAC-1    HCAHeartST13233999\n",
       "HCAHeartST13233999_TTGTTCTAGATACGCT-1    HCAHeartST13233999\n",
       "HCAHeartST13233999_TTGTTGTGTGTCAAGA-1    HCAHeartST13233999\n",
       "HCAHeartST13233999_TTGTTTCCATACAACT-1    HCAHeartST13233999\n",
       "HCAHeartST13233999_TTGTTTGTGTAAATTC-1    HCAHeartST13233999\n",
       "Name: sangerID, Length: 27108, dtype: category\n",
       "Categories (8, object): ['HCAHeartST10659160', 'HCAHeartST12992072', 'HCAHeartST13228105', 'HCAHeartST13228106', 'HCAHeartST13233996', 'HCAHeartST13233997', 'HCAHeartST13233998', 'HCAHeartST13233999']"
      ]
     },
     "execution_count": 13,
     "metadata": {},
     "output_type": "execute_result"
    }
   ],
   "source": []
  },
  {
   "cell_type": "code",
   "execution_count": 12,
   "id": "bottom-lesson",
   "metadata": {},
   "outputs": [
    {
     "data": {
      "text/plain": [
       "AnnData object with n_obs × n_vars = 27108 × 33538\n",
       "    obs: 'in_tissue', 'array_row', 'array_col', 'sample', 'n_genes_by_counts', 'log1p_n_genes_by_counts', 'total_counts', 'log1p_total_counts', 'pct_counts_in_top_50_genes', 'pct_counts_in_top_100_genes', 'pct_counts_in_top_200_genes', 'pct_counts_in_top_500_genes', 'mt_frac', 'n_counts', 'n_genes', 'annotation_JC', 'sangerID', 'Publication', 'combinedID', 'donor', 'donor_type', 'region', 'region_finest', 'age', 'gender', 'facility', 'cell_or_nuclei', 'modality', 'kit_10x', 'flushed', 'region_cell2loc'\n",
       "    var: 'gene_ids', 'feature_types', 'genome', 'SYMBOL'\n",
       "    uns: 'spatial'\n",
       "    obsm: 'MT', 'means_cell_abundance_w_sf', 'q05_cell_abundance_w_sf', 'q95_cell_abundance_w_sf', 'spatial', 'stds_cell_abundance_w_sf'"
      ]
     },
     "execution_count": 12,
     "metadata": {},
     "output_type": "execute_result"
    }
   ],
   "source": [
    "adata"
   ]
  },
  {
   "cell_type": "code",
   "execution_count": null,
   "id": "bigger-period",
   "metadata": {},
   "outputs": [],
   "source": []
  }
 ],
 "metadata": {
  "kernelspec": {
   "display_name": "celcomen_tutorial_env",
   "language": "python",
   "name": "celcomen_tutorial_env"
  },
  "language_info": {
   "codemirror_mode": {
    "name": "ipython",
    "version": 3
   },
   "file_extension": ".py",
   "mimetype": "text/x-python",
   "name": "python",
   "nbconvert_exporter": "python",
   "pygments_lexer": "ipython3",
   "version": "3.10.14"
  }
 },
 "nbformat": 4,
 "nbformat_minor": 5
}
